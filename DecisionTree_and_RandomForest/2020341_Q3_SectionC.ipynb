{
  "nbformat": 4,
  "nbformat_minor": 0,
  "metadata": {
    "colab": {
      "provenance": [],
      "collapsed_sections": []
    },
    "kernelspec": {
      "name": "python3",
      "display_name": "Python 3"
    },
    "language_info": {
      "name": "python"
    }
  },
  "cells": [
    {
      "cell_type": "code",
      "source": [
        "from google.colab import drive\n",
        "drive.mount('/content/drive')"
      ],
      "metadata": {
        "id": "A1SWmsSVOC2r"
      },
      "execution_count": null,
      "outputs": []
    },
    {
      "cell_type": "code",
      "source": [
        "import pandas as pd\n",
        "import numpy as np\n",
        "from sklearn.preprocessing import StandardScaler\n",
        "import matplotlib.pyplot as plt\n",
        "url = \"/content/drive/MyDrive/BitcoinHeistData.csv\"\n",
        "data = pd.read_csv(url)\n",
        "data.drop(\"address\",axis = 1,inplace = True)\n",
        "data = data.sample(frac = 1,random_state = 1).reset_index()\n",
        "print(data.isnull())\n",
        "scaler = StandardScaler()\n",
        "X = data.iloc[:,:-1].values\n",
        "X = scaler.fit_transform(X)\n",
        "Y = data.iloc[:,-1].values\n",
        "Y = np.reshape(Y,(-1,1))"
      ],
      "metadata": {
        "id": "BR8F8rGTOOPP"
      },
      "execution_count": 3,
      "outputs": []
    },
    {
      "cell_type": "code",
      "source": [
        "def train_validate_test_split(X,Y):\n",
        "  X_shape = X.shape\n",
        "  Y_shape = Y.shape\n",
        "  X_size = X_shape[0];\n",
        "  Y_size = Y_shape[0];\n",
        "  seventyPercent = 0.7 *X_size\n",
        "  eightPercent = 0.85*X_size;\n",
        "  X_train = X[0:int(seventyPercent),:]\n",
        "  Y_train = Y[0:int(seventyPercent),:]\n",
        "  X_validate = X[int(seventyPercent):int(eightPercent),:]\n",
        "  Y_validate = Y[int(seventyPercent):int(eightPercent),:]\n",
        "  X_test = X[int(eightPercent):,:]\n",
        "  Y_test = Y[int(eightPercent):,:]\n",
        "  arr = []\n",
        "  arr.append(X_train)\n",
        "  arr.append(X_validate)\n",
        "  arr.append(X_test)\n",
        "  arr.append(Y_train)\n",
        "  arr.append(Y_validate)\n",
        "  arr.append(Y_test)\n",
        "  return arr"
      ],
      "metadata": {
        "id": "g491jVXeXmbi"
      },
      "execution_count": 4,
      "outputs": []
    },
    {
      "cell_type": "code",
      "source": [
        "a = train_validate_test_split(X,Y);\n",
        "X_train = a[0]\n",
        "X_validate = a[1]\n",
        "X_test = a[2]\n",
        "Y_train = a[3]\n",
        "Y_validate = a[4]\n",
        "Y_test = a[5]"
      ],
      "metadata": {
        "id": "a-5zJIXNaqN2"
      },
      "execution_count": 5,
      "outputs": []
    },
    {
      "cell_type": "markdown",
      "source": [
        "Gini Criterion"
      ],
      "metadata": {
        "id": "vLkur2xvmNm_"
      }
    },
    {
      "cell_type": "code",
      "source": [
        "from sklearn.tree import DecisionTreeClassifier\n",
        "from sklearn.metrics import *\n",
        "arr = [4,8,10,15,20]\n",
        "validate_plot = []\n",
        "test_plot = []\n",
        "for i in arr:\n",
        "  model = DecisionTreeClassifier(max_depth = i)  # default gini\n",
        "  model = model.fit(X_train,Y_train)\n",
        "  pred_validate = model.predict(X_validate)\n",
        "  pred_test = model.predict(X_test)\n",
        "  accuracy_score_validate = accuracy_score(Y_validate,pred_validate)\n",
        "  recall_score_validate = recall_score(Y_validate,pred_validate,average = \"micro\")\n",
        "  precision_score_validate = precision_score(Y_validate,pred_validate,average = \"micro\")\n",
        "  accuracy_score_test = accuracy_score(Y_test,pred_test)\n",
        "  recall_score_test = recall_score(Y_test,pred_test,average = \"micro\")\n",
        "  precision_score_test = precision_score(Y_test,pred_test,average = \"micro\")\n",
        "  validate_plot.append(accuracy_score_validate)\n",
        "  test_plot.append(accuracy_score_test)\n",
        "  print(\"Accuracy Score For Validate (max depth = \" + str(i) + \") : \" + str(accuracy_score_validate))\n",
        "  print(\"Precision Score For Validate (max depth = \" + str(i) + \") : \" + str(precision_score_validate))\n",
        "  print(\"Recall Score For Validate (max depth = \" + str(i) + \") : \" + str(recall_score_validate))\n",
        "  print(\"Accuracy Score For Test (max depth = \" + str(i) + \") : \" + str(accuracy_score_test))\n",
        "  print(\"Precision Score For Test (max depth = \" + str(i) + \") : \" + str(precision_score_test))\n",
        "  print(\"Recall Score For Test (max depth = \" + str(i) + \") : \" + str(recall_score_test))\n",
        "  print()\n",
        "plt.xlabel(\"Max_Depth\")\n",
        "plt.ylabel(\"Accuracy Score\")\n",
        "plt.plot(arr,validate_plot,'r',label = \"Validate Data\")\n",
        "plt.plot(arr,test_plot,'b',label = \"Testing Data\")\n",
        "plt.legend()"
      ],
      "metadata": {
        "id": "nABr1Fg-Wuzo",
        "colab": {
          "base_uri": "https://localhost:8080/",
          "height": 905
        },
        "outputId": "783abece-0ead-46c5-9029-f30fe7a7f5fc"
      },
      "execution_count": 9,
      "outputs": [
        {
          "output_type": "stream",
          "name": "stdout",
          "text": [
            "Accuracy Score For Validate (max depth = 4) : 0.9980183083621902\n",
            "Precision Score For Validate (max depth = 4) : 0.9980183083621902\n",
            "Recall Score For Validate (max depth = 4) : 0.9980183083621902\n",
            "Accuracy Score For Test (max depth = 4) : 0.997940594964629\n",
            "Precision Score For Test (max depth = 4) : 0.997940594964629\n",
            "Recall Score For Test (max depth = 4) : 0.997940594964629\n",
            "\n",
            "Accuracy Score For Validate (max depth = 8) : 0.9993508645615479\n",
            "Precision Score For Validate (max depth = 8) : 0.9993508645615479\n",
            "Recall Score For Validate (max depth = 8) : 0.9993508645615479\n",
            "Accuracy Score For Test (max depth = 8) : 0.999318864927258\n",
            "Precision Score For Test (max depth = 8) : 0.999318864927258\n",
            "Recall Score For Test (max depth = 8) : 0.999318864927258\n",
            "\n",
            "Accuracy Score For Validate (max depth = 10) : 0.9994628632815625\n",
            "Precision Score For Validate (max depth = 10) : 0.9994628632815625\n",
            "Recall Score For Validate (max depth = 10) : 0.9994628632815625\n",
            "Accuracy Score For Test (max depth = 10) : 0.9994697203460532\n",
            "Precision Score For Test (max depth = 10) : 0.9994697203460532\n",
            "Recall Score For Test (max depth = 10) : 0.9994697203460532\n",
            "\n",
            "Accuracy Score For Validate (max depth = 15) : 0.9994514348407447\n",
            "Precision Score For Validate (max depth = 15) : 0.9994514348407447\n",
            "Recall Score For Validate (max depth = 15) : 0.9994514348407447\n",
            "Accuracy Score For Test (max depth = 15) : 0.999444577776254\n",
            "Precision Score For Test (max depth = 15) : 0.999444577776254\n",
            "Recall Score For Test (max depth = 15) : 0.999444577776254\n",
            "\n",
            "Accuracy Score For Validate (max depth = 20) : 0.9994400063999268\n",
            "Precision Score For Validate (max depth = 20) : 0.9994400063999268\n",
            "Recall Score For Validate (max depth = 20) : 0.9994400063999268\n",
            "Accuracy Score For Test (max depth = 20) : 0.9994628632815625\n",
            "Precision Score For Test (max depth = 20) : 0.9994628632815625\n",
            "Recall Score For Test (max depth = 20) : 0.9994628632815625\n",
            "\n"
          ]
        },
        {
          "output_type": "execute_result",
          "data": {
            "text/plain": [
              "<matplotlib.legend.Legend at 0x7fea1e868a50>"
            ]
          },
          "metadata": {},
          "execution_count": 9
        },
        {
          "output_type": "display_data",
          "data": {
            "text/plain": [
              "<Figure size 432x288 with 1 Axes>"
            ],
            "image/png": "[encoded data removed]"
          },
          "metadata": {
            "needs_background": "light"
          }
        }
      ]
    },
    {
      "cell_type": "markdown",
      "source": [
        "Criteria Entropy"
      ],
      "metadata": {
        "id": "h3tcesQcmdGy"
      }
    },
    {
      "cell_type": "code",
      "source": [
        "validate_plot = []\n",
        "test_plot = []\n",
        "for i in arr:\n",
        "  model = DecisionTreeClassifier(max_depth = i,criterion = \"entropy\")\n",
        "  model = model.fit(X_train,Y_train)\n",
        "  pred_validate = model.predict(X_validate)\n",
        "  pred_test = model.predict(X_test)\n",
        "  accuracy_score_validate = accuracy_score(Y_validate,pred_validate)\n",
        "  recall_score_validate = recall_score(Y_validate,pred_validate,average = \"micro\")\n",
        "  precision_score_validate = precision_score(Y_validate,pred_validate,average = \"micro\")\n",
        "  accuracy_score_test = accuracy_score(Y_test,pred_test)\n",
        "  recall_score_test = recall_score(Y_test,pred_test,average = \"micro\")\n",
        "  precision_score_test = precision_score(Y_test,pred_test,average = \"micro\")\n",
        "  validate_plot.append(accuracy_score_validate)\n",
        "  test_plot.append(accuracy_score_test)\n",
        "  print(\"Accuracy Score For Validate (max depth = \" + str(i) + \") : \" + str(accuracy_score_validate))\n",
        "  print(\"Precision Score For Validate (max depth = \" + str(i) + \") : \" + str(precision_score_validate))\n",
        "  print(\"Recall Score For Validate (max depth = \" + str(i) + \") : \" + str(recall_score_validate))\n",
        "  print(\"Accuracy Score For Test (max depth = \" + str(i) + \") : \" + str(accuracy_score_test))\n",
        "  print(\"Precision Score For Test (max depth = \" + str(i) + \") : \" + str(precision_score_test))\n",
        "  print(\"Recall Score For Test (max depth = \" + str(i) + \") : \" + str(recall_score_test))\n",
        "  print()\n",
        "plt.xlabel(\"Max_Depth\")\n",
        "plt.ylabel(\"Accuracy Score\")\n",
        "plt.plot(arr,validate_plot,'r',label = \"Validate Data\")\n",
        "plt.plot(arr,test_plot,'b',label = \"Testing Data\")\n",
        "plt.legend()"
      ],
      "metadata": {
        "id": "cydg-_GHmcdv",
        "colab": {
          "base_uri": "https://localhost:8080/",
          "height": 907
        },
        "outputId": "68de84ee-a6ea-4864-f524-bc379cd889ea"
      },
      "execution_count": 11,
      "outputs": [
        {
          "output_type": "stream",
          "name": "stdout",
          "text": [
            "Accuracy Score For Validate (max depth = 4) : 0.9980183083621902\n",
            "Precision Score For Validate (max depth = 4) : 0.9980183083621902\n",
            "Recall Score For Validate (max depth = 4) : 0.9980183083621902\n",
            "Accuracy Score For Test (max depth = 4) : 0.997940594964629\n",
            "Precision Score For Test (max depth = 4) : 0.997940594964629\n",
            "Recall Score For Test (max depth = 4) : 0.997940594964629\n",
            "\n",
            "Accuracy Score For Validate (max depth = 8) : 0.9993577216260385\n",
            "Precision Score For Validate (max depth = 8) : 0.9993577216260385\n",
            "Recall Score For Validate (max depth = 8) : 0.9993577216260385\n",
            "Accuracy Score For Test (max depth = 8) : 0.9993577216260385\n",
            "Precision Score For Test (max depth = 8) : 0.9993577216260385\n",
            "Recall Score For Test (max depth = 8) : 0.9993577216260385\n",
            "\n",
            "Accuracy Score For Validate (max depth = 10) : 0.9994925772276888\n",
            "Precision Score For Validate (max depth = 10) : 0.9994925772276888\n",
            "Recall Score For Validate (max depth = 10) : 0.9994925772276888\n",
            "Accuracy Score For Test (max depth = 10) : 0.9994994342921795\n",
            "Precision Score For Test (max depth = 10) : 0.9994994342921795\n",
            "Recall Score For Test (max depth = 10) : 0.9994994342921795\n",
            "\n",
            "Accuracy Score For Validate (max depth = 15) : 0.9995360053027965\n",
            "Precision Score For Validate (max depth = 15) : 0.9995360053027965\n",
            "Recall Score For Validate (max depth = 15) : 0.9995360053027965\n",
            "Accuracy Score For Test (max depth = 15) : 0.9995222911738152\n",
            "Precision Score For Test (max depth = 15) : 0.9995222911738152\n",
            "Recall Score For Test (max depth = 15) : 0.9995222911738152\n",
            "\n",
            "Accuracy Score For Validate (max depth = 20) : 0.9995131484211609\n",
            "Precision Score For Validate (max depth = 20) : 0.9995131484211609\n",
            "Recall Score For Validate (max depth = 20) : 0.9995131484211609\n",
            "Accuracy Score For Test (max depth = 20) : 0.9994880058513617\n",
            "Precision Score For Test (max depth = 20) : 0.9994880058513617\n",
            "Recall Score For Test (max depth = 20) : 0.9994880058513617\n",
            "\n"
          ]
        },
        {
          "output_type": "execute_result",
          "data": {
            "text/plain": [
              "<matplotlib.legend.Legend at 0x7fea1e691890>"
            ]
          },
          "metadata": {},
          "execution_count": 11
        },
        {
          "output_type": "display_data",
          "data": {
            "text/plain": [
              "<Figure size 432x288 with 1 Axes>"
            ],
            "image/png": "[encoded data removed]"
          },
          "metadata": {
            "needs_background": "light"
          }
        }
      ]
    },
    {
      "cell_type": "markdown",
      "source": [
        "2 Ensembling"
      ],
      "metadata": {
        "id": "1S0VvNWC5A8x"
      }
    },
    {
      "cell_type": "code",
      "source": [
        "new_train_size = int(.5*X_train.shape[0])\n",
        "data_new = np.concatenate((X_train, Y_train), axis=1)\n",
        "new_pred_test = []\n",
        "new_pred_val = []\n",
        "for _ in range (100):\n",
        "  dataset = data_new[np.random.choice(data_new.shape[0],new_train_size,replace=True),:]\n",
        "  X_t = dataset[:,:-1];\n",
        "  Y_t = np.reshape(dataset[:,-1],(-1,1))\n",
        "  model = DecisionTreeClassifier(max_depth=3,criterion=\"entropy\")\n",
        "  model = model.fit(X_t,Y_t)\n",
        "  pred_test = model.predict(X_test)\n",
        "  pred_validate = model.predict(X_validate)\n",
        "  new_pred_val.append(pred_validate)\n",
        "  new_pred_test.append(pred_test)"
      ],
      "metadata": {
        "id": "sUqx9mMG5PHU"
      },
      "execution_count": 12,
      "outputs": []
    },
    {
      "cell_type": "code",
      "source": [
        "Y_pred_validate = []\n",
        "Y_pred_test = []\n",
        "for i in range(437505):\n",
        "  d = {}\n",
        "  d1 = {}\n",
        "  for j in range(100):\n",
        "    d[new_pred_val[j][i]] = d.get(new_pred_val[j][i], 0) + 1\n",
        "    d1[new_pred_test[j][i]] = d1.get(new_pred_test[j][i], 0) + 1\n",
        "  val_predict = max(zip(d.values(), d.keys()))[1]\n",
        "  test_predict = max(zip(d1.values(), d1.keys()))[1]\n",
        "  Y_pred_validate.append(val_predict)\n",
        "  Y_pred_test.append(test_predict)"
      ],
      "metadata": {
        "id": "PBl-HWhWmuh3"
      },
      "execution_count": 13,
      "outputs": []
    },
    {
      "cell_type": "code",
      "source": [
        "Y_pred_validate = np.reshape(Y_pred_validate,(-1,1))\n",
        "Y_pred_test = np.reshape(Y_pred_test,(-1,1))"
      ],
      "metadata": {
        "id": "4A6fEFydsi0P"
      },
      "execution_count": 14,
      "outputs": []
    },
    {
      "cell_type": "code",
      "source": [
        "accuracy_score_validate = accuracy_score(Y_validate,Y_pred_validate)\n",
        "recall_score_validate = recall_score(Y_validate,Y_pred_validate,average = \"micro\")\n",
        "precision_score_validate = precision_score(Y_validate,Y_pred_validate,average = \"micro\")\n",
        "accuracy_score_test = accuracy_score(Y_test,Y_pred_test)\n",
        "recall_score_test = recall_score(Y_test,Y_pred_test,average = \"micro\")\n",
        "precision_score_test = precision_score(Y_test,Y_pred_test,average = \"micro\")\n",
        "print(\"Accuracy Score For Validate : \" + str(accuracy_score_validate))\n",
        "print(\"Precision Score For Validate : \" + str(precision_score_validate))\n",
        "print(\"Recall Score For Validate : \" + str(recall_score_validate))\n",
        "print(\"Accuracy Score For Test : \" + str(accuracy_score_test))\n",
        "print(\"Precision Score For Test : \" + str(precision_score_test))\n",
        "print(\"Recall Score For Test : \" + str(recall_score_test))"
      ],
      "metadata": {
        "id": "ThmfuKics94Z",
        "colab": {
          "base_uri": "https://localhost:8080/"
        },
        "outputId": "a5e38522-15a1-4f87-9d94-273c0ff31728"
      },
      "execution_count": 15,
      "outputs": [
        {
          "output_type": "stream",
          "name": "stdout",
          "text": [
            "Accuracy Score For Validate : 0.9978217391801236\n",
            "Precision Score For Validate : 0.9978217391801236\n",
            "Recall Score For Validate : 0.9978217391801236\n",
            "Accuracy Score For Test : 0.9976503125678564\n",
            "Precision Score For Test : 0.9976503125678564\n",
            "Recall Score For Test : 0.9976503125678564\n"
          ]
        }
      ]
    },
    {
      "cell_type": "markdown",
      "source": [
        "3 Adaboost"
      ],
      "metadata": {
        "id": "0cRyAvAqkhcb"
      }
    },
    {
      "cell_type": "code",
      "source": [
        "from sklearn.ensemble import AdaBoostClassifier\n",
        "\n",
        "test_plot = []\n",
        "validate_plot = []\n",
        "for i in arr:\n",
        "  model = AdaBoostClassifier(n_estimators=i,base_estimator = DecisionTreeClassifier(max_depth = 15,criterion = \"entropy\"))\n",
        "  model = model.fit(X_train,Y_train)\n",
        "  pred_validate = model.predict(X_validate)\n",
        "  pred_test = model.predict(X_test)\n",
        "  accuracy_score_validate = accuracy_score(Y_validate,pred_validate)\n",
        "  recall_score_validate = recall_score(Y_validate,pred_validate,average = \"micro\")\n",
        "  precision_score_validate = precision_score(Y_validate,pred_validate,average = \"micro\")\n",
        "  accuracy_score_test = accuracy_score(Y_test,pred_test)\n",
        "  recall_score_test = recall_score(Y_test,pred_test,average = \"micro\")\n",
        "  precision_score_test = precision_score(Y_test,pred_test,average = \"micro\")\n",
        "  validate_plot.append(accuracy_score_validate)\n",
        "  test_plot.append(accuracy_score_test)\n",
        "  print(\"Accuracy Score For Validate (number of estimators = \" + str(i) + \") : \" + str(accuracy_score_validate))\n",
        "  print(\"Precision Score For Validate (number of estimators = \" + str(i) + \") : \" + str(precision_score_validate))\n",
        "  print(\"Recall Score For Validate (number of estimators = \" + str(i) + \") : \" + str(recall_score_validate))\n",
        "  print(\"Accuracy Score For Test (number of estimators = \" + str(i) + \") : \" + str(accuracy_score_test))\n",
        "  print(\"Precision Score For Test (number of estimators = \" + str(i) + \") : \" + str(precision_score_test))\n",
        "  print(\"Recall Score For Test (number of estimators = \" + str(i) + \") : \" + str(recall_score_test))\n",
        "  print()\n",
        "plt.xlabel(\"Number of estimators\")\n",
        "plt.ylabel(\"Accuracy Score\")\n",
        "plt.plot(arr,validate_plot,'r',label = \"Validate Data\")\n",
        "plt.plot(arr,test_plot,'b',label = \"Testing Data\")\n",
        "plt.legend()\n"
      ],
      "metadata": {
        "id": "tRG3AAa2d8zY",
        "colab": {
          "base_uri": "https://localhost:8080/",
          "height": 1000
        },
        "outputId": "526f34af-b4ab-4eb3-803b-931f8e7a0db9"
      },
      "execution_count": 16,
      "outputs": [
        {
          "output_type": "stream",
          "name": "stderr",
          "text": [
            "/usr/local/lib/python3.7/dist-packages/sklearn/utils/validation.py:993: DataConversionWarning: A column-vector y was passed when a 1d array was expected. Please change the shape of y to (n_samples, ), for example using ravel().\n",
            "  y = column_or_1d(y, warn=True)\n"
          ]
        },
        {
          "output_type": "stream",
          "name": "stdout",
          "text": [
            "Accuracy Score For Validate (number of estimators = 4) : 0.9995565764962686\n",
            "Precision Score For Validate (number of estimators = 4) : 0.9995565764962686\n",
            "Recall Score For Validate (number of estimators = 4) : 0.9995565764962686\n",
            "Accuracy Score For Test (number of estimators = 4) : 0.9995634335607593\n",
            "Precision Score For Test (number of estimators = 4) : 0.9995634335607593\n",
            "Recall Score For Test (number of estimators = 4) : 0.9995634335607593\n",
            "\n"
          ]
        },
        {
          "output_type": "stream",
          "name": "stderr",
          "text": [
            "/usr/local/lib/python3.7/dist-packages/sklearn/utils/validation.py:993: DataConversionWarning: A column-vector y was passed when a 1d array was expected. Please change the shape of y to (n_samples, ), for example using ravel().\n",
            "  y = column_or_1d(y, warn=True)\n"
          ]
        },
        {
          "output_type": "stream",
          "name": "stdout",
          "text": [
            "Accuracy Score For Validate (number of estimators = 8) : 0.9996045759477035\n",
            "Precision Score For Validate (number of estimators = 8) : 0.9996045759477035\n",
            "Recall Score For Validate (number of estimators = 8) : 0.9996045759477035\n",
            "Accuracy Score For Test (number of estimators = 8) : 0.999606861635867\n",
            "Precision Score For Test (number of estimators = 8) : 0.999606861635867\n",
            "Recall Score For Test (number of estimators = 8) : 0.999606861635867\n",
            "\n"
          ]
        },
        {
          "output_type": "stream",
          "name": "stderr",
          "text": [
            "/usr/local/lib/python3.7/dist-packages/sklearn/utils/validation.py:993: DataConversionWarning: A column-vector y was passed when a 1d array was expected. Please change the shape of y to (n_samples, ), for example using ravel().\n",
            "  y = column_or_1d(y, warn=True)\n"
          ]
        },
        {
          "output_type": "stream",
          "name": "stdout",
          "text": [
            "Accuracy Score For Validate (number of estimators = 10) : 0.9996182900766848\n",
            "Precision Score For Validate (number of estimators = 10) : 0.9996182900766848\n",
            "Recall Score For Validate (number of estimators = 10) : 0.9996182900766848\n",
            "Accuracy Score For Test (number of estimators = 10) : 0.9996274328293391\n",
            "Precision Score For Test (number of estimators = 10) : 0.9996274328293391\n",
            "Recall Score For Test (number of estimators = 10) : 0.9996274328293391\n",
            "\n"
          ]
        },
        {
          "output_type": "stream",
          "name": "stderr",
          "text": [
            "/usr/local/lib/python3.7/dist-packages/sklearn/utils/validation.py:993: DataConversionWarning: A column-vector y was passed when a 1d array was expected. Please change the shape of y to (n_samples, ), for example using ravel().\n",
            "  y = column_or_1d(y, warn=True)\n"
          ]
        },
        {
          "output_type": "stream",
          "name": "stdout",
          "text": [
            "Accuracy Score For Validate (number of estimators = 15) : 0.9996137187003578\n",
            "Precision Score For Validate (number of estimators = 15) : 0.9996137187003578\n",
            "Recall Score For Validate (number of estimators = 15) : 0.9996137187003578\n",
            "Accuracy Score For Test (number of estimators = 15) : 0.9996388612701569\n",
            "Precision Score For Test (number of estimators = 15) : 0.9996388612701569\n",
            "Recall Score For Test (number of estimators = 15) : 0.9996388612701569\n",
            "\n"
          ]
        },
        {
          "output_type": "stream",
          "name": "stderr",
          "text": [
            "/usr/local/lib/python3.7/dist-packages/sklearn/utils/validation.py:993: DataConversionWarning: A column-vector y was passed when a 1d array was expected. Please change the shape of y to (n_samples, ), for example using ravel().\n",
            "  y = column_or_1d(y, warn=True)\n"
          ]
        },
        {
          "output_type": "stream",
          "name": "stdout",
          "text": [
            "Accuracy Score For Validate (number of estimators = 20) : 0.9996388612701569\n",
            "Precision Score For Validate (number of estimators = 20) : 0.9996388612701569\n",
            "Recall Score For Validate (number of estimators = 20) : 0.9996388612701569\n",
            "Accuracy Score For Test (number of estimators = 20) : 0.999606861635867\n",
            "Precision Score For Test (number of estimators = 20) : 0.999606861635867\n",
            "Recall Score For Test (number of estimators = 20) : 0.999606861635867\n",
            "\n"
          ]
        },
        {
          "output_type": "execute_result",
          "data": {
            "text/plain": [
              "<matplotlib.legend.Legend at 0x7fe9f9fd2990>"
            ]
          },
          "metadata": {},
          "execution_count": 16
        },
        {
          "output_type": "display_data",
          "data": {
            "text/plain": [
              "<Figure size 432x288 with 1 Axes>"
            ],
            "image/png": "[encoded data removed]"
          },
          "metadata": {
            "needs_background": "light"
          }
        }
      ]
    }
  ]
}