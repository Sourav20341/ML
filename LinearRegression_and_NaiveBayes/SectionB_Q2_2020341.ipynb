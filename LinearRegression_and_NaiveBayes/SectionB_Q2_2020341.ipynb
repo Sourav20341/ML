{
  "nbformat": 4,
  "nbformat_minor": 0,
  "metadata": {
    "colab": {
      "provenance": [],
      "collapsed_sections": []
    },
    "kernelspec": {
      "name": "python3",
      "display_name": "Python 3"
    },
    "language_info": {
      "name": "python"
    }
  },
  "cells": [
    {
      "cell_type": "markdown",
      "source": [
        "Data Split"
      ],
      "metadata": {
        "id": "93wT8KPeRJKC"
      }
    },
    {
      "cell_type": "code",
      "execution_count": 62,
      "metadata": {
        "id": "Kk0_gnXZPhu5"
      },
      "outputs": [],
      "source": [
        "# importing essential libraries which we needed while doing task\n",
        "\n",
        "import pandas as pd\n",
        "import numpy as np\n",
        "import matplotlib.pyplot as plt\n",
        "import math\n",
        "\n",
        "df = pd.read_csv(\"https://raw.githubusercontent.com/Sourav20341/ML/main/.github/workflows/Real%20estate.csv\")\n",
        "X = df.iloc[:,1:-1].values;  # This split all the features from output column\n",
        "Y = np.reshape(df.iloc[:,-1].values,(-1,1)); # This gives us the output column and we are converting in 2D matrix with the help of reshape for our ease of computation\n",
        "mean_X = np.mean(X,axis = 0)  # Calculating Mean of Features\n",
        "std_X = np.std(X,axis = 0)  # Calculating Standard Deviation of Feautres\n",
        "size_Y = Y.shape # Storing dimesions of Output Column\n",
        "\n",
        "#Normalisation of Features Data\n",
        "for i in range(size_X[1]):\n",
        "  for j in range(size_X[0]):\n",
        "    X[j][i] = X[j][i] - mean_X[i]\n",
        "    X[j][i] = X[j][i]/std_X[i]\n",
        "\n",
        "\n",
        "#insert a column in input matrix for w0 weight\n",
        "X = np.insert(X,0,1,axis = 1) # inserting a column for bias\n",
        "size_X = X.shape # Storing dimension of Features"
      ]
    },
    {
      "cell_type": "markdown",
      "source": [
        "Spliting Data\n"
      ],
      "metadata": {
        "id": "kozosChI_45t"
      }
    },
    {
      "cell_type": "code",
      "source": [
        "# In this code block we are splitting the data for each K fold range from 2 to 5 and stores in variable\n",
        "\n",
        "# k = 2\n",
        "\n",
        "X_train21 = X[:int(size_X[0]/2),:]\n",
        "X_train22 = X[int(size_X[0]/2):,:]\n",
        "Y_train21 = Y[:int(size_Y[0]/2)]\n",
        "Y_train22 = Y[int(size_Y[0]/2):]\n",
        "\n",
        "# k = 3\n",
        "\n",
        "X_train31 = X[:int(size_X[0]/3),:]\n",
        "X_train32 = X[int(size_X[0]/3):int(2*size_X[0]/3),:]\n",
        "X_train33 = X[int(2*size_X[0]/3):,:]\n",
        "Y_train31 = Y[:int(size_Y[0]/3)]\n",
        "Y_train32 = Y[int(size_Y[0]/3):int(2*size_Y[0]/3)]\n",
        "Y_train33 = Y[int(2*size_Y[0]/3):]\n",
        "\n",
        "# k = 4\n",
        "\n",
        "X_train41 = X[:int(size_X[0]/4),:]\n",
        "X_train42 = X[int(size_X[0]/4):int(size_X[0]/2),:]\n",
        "X_train43 = X[int(size_X[0]/2):int(3*size_X[0]/4),:]\n",
        "X_train44 = X[int(3*size_X[0]/4):,:]\n",
        "Y_train41 = Y[:int(size_Y[0]/4)]\n",
        "Y_train42 = Y[int(size_Y[0]/4):int(size_Y[0]/2)]\n",
        "Y_train43 = Y[int(size_Y[0]/2):int(3*size_Y[0]/4)]\n",
        "Y_train44 = Y[int(3*size_Y[0]/4):]\n",
        "\n",
        "# k = 5\n",
        "\n",
        "X_train51 = X[:int(size_X[0]/5),:]\n",
        "X_train52 = X[int(size_X[0]/5):int(2*size_X[0]/5),:]\n",
        "X_train53 = X[int(2*size_X[0]/5):int(3*size_X[0]/5),:]\n",
        "X_train54 = X[int(3*size_X[0]/5):int(4*size_X[0]/5),:]\n",
        "X_train55 = X[int(4*size_X[0]/5):,:]\n",
        "Y_train51 = Y[:int(size_Y[0]/5)]\n",
        "Y_train52 = Y[int(size_Y[0]/5):int(2*size_Y[0]/5)]\n",
        "Y_train53 = Y[int(2*size_Y[0]/5):int(3*size_Y[0]/5)]\n",
        "Y_train54 = Y[int(3*size_Y[0]/5):int(4*size_Y[0]/5)]\n",
        "Y_train55 = Y[int(4*size_Y[0]/5):]"
      ],
      "metadata": {
        "id": "eRTKQpXF_34D"
      },
      "execution_count": null,
      "outputs": []
    },
    {
      "cell_type": "markdown",
      "source": [
        "Linear Regression Gradient Descent "
      ],
      "metadata": {
        "id": "iy-31dcJHTv-"
      }
    },
    {
      "cell_type": "code",
      "source": [
        "# In this code block we are implementing Gradient Descent function,root mean square function, mean square function, Transpose function\n",
        "\n",
        "def rmse(y_expected,y_pred):  # this returns root mean square value\n",
        "  val = mse(y_expected,y_pred)\n",
        "  return math.sqrt(val)\n",
        "\n",
        "def mse(y_expected,y_pred):  # this returns mean square value\n",
        "  size = y_expected.size\n",
        "  J = 0\n",
        "  for i in range(size):\n",
        "    J += (y_expected[i] - y_pred[i])**2\n",
        "  J = J/size\n",
        "  return J\n",
        "\n",
        "def Transpose(array):  # this transpose the array\n",
        "  n,m = array.shape\n",
        "  res = np.zeros((m,n))\n",
        "  for i in range(n):\n",
        "    for j in range(m):\n",
        "      res[j][i] = array[i][j]\n",
        "  return res\n",
        "  \n",
        "def DescentGradient(X,Y,epoch=1300,p = False,model_num = 0):  # this returns the weight \n",
        "  RMSE = []          # this array stores the root mean square value at each iteration\n",
        "  Iteration_Number = [] # this array stores the iteration number at each iteration\n",
        "  alpha = 0.006  # this is our learning rate\n",
        "  weight = np.zeros((1,7)) # intialising weight array \n",
        "  for i in range(7):\n",
        "    weight[0,i] = 2\n",
        "  for i in range(epoch):\n",
        "    T = Transpose(weight)   # transposing the weight matrix\n",
        "    sumpart = np.matmul(X,T) - Y  # we are multiplying Transpose of weight with features and minus it with output\n",
        "    cost = np.sum(X*sumpart,axis = 0)/X.shape[0]  # this gives us the cost \n",
        "    weight = weight - alpha*cost  # this updates the weight according to gradient descent \n",
        "    RMSE = np.append(RMSE,rmse(Y,np.matmul(X,T)))  # store the current rmse in array\n",
        "    Iteration_Number = np.append(Iteration_Number,i) # store the iteration in array\n",
        "  if(p):\n",
        "    # below code is for ploting the graph\n",
        "    s = \"Model \" + str(model_num)\n",
        "    plt.xlabel(\"Iteration\")\n",
        "    plt.ylabel(\"RMSE\")\n",
        "    plt.plot(Iteration_Number,RMSE,label = s)\n",
        "    plt.legend()\n",
        "  return weight;  # returning the weight"
      ],
      "metadata": {
        "id": "lzn6_6VjRdeO"
      },
      "execution_count": null,
      "outputs": []
    },
    {
      "cell_type": "markdown",
      "source": [
        "Root Mean Error Count for all values of K"
      ],
      "metadata": {
        "id": "awG-OphDfxvK"
      }
    },
    {
      "cell_type": "code",
      "source": [
        "# In this Code block we are only calculating rmse for each K and find mean rmse for each k and reporting it by print the error and also we are using vstack\n",
        "# for concatenation the 2 matrix because we are joing k-1 matrix for training and other matrix for testing\n",
        "\n",
        "# k = 2\n",
        "\n",
        "wt21 = DescentGradient(X_train21,Y_train21)\n",
        "error21 = rmse(Y_train22,np.matmul(X_train22,Transpose(wt21)))\n",
        "wt22 = DescentGradient(X_train22,Y_train22)\n",
        "error22 = rmse(Y_train21,np.matmul(X_train21,Transpose(wt22)))\n",
        "meanerror2 = (error21+error22)/2\n",
        "print(\"Mean RMSE for K = 2 :- \" +  str(meanerror2))\n",
        "\n",
        "# k = 3\n",
        "\n",
        "wt31 = DescentGradient(np.vstack((X_train31,X_train32)),np.vstack((Y_train31,Y_train32)))\n",
        "error31 = rmse(Y_train33,np.matmul(X_train33,Transpose(wt31)))\n",
        "wt32 = DescentGradient(np.vstack((X_train31,X_train33)),np.vstack((Y_train31,Y_train33)))\n",
        "error32 = rmse(Y_train32,np.matmul(X_train32,Transpose(wt32)))\n",
        "wt33 = DescentGradient(np.vstack((X_train32,X_train33)),np.vstack((Y_train32,Y_train33)))\n",
        "error33 = rmse(Y_train31,np.matmul(X_train31,Transpose(wt33)))\n",
        "meanerror3 = (error31+error32+error33)/3\n",
        "print(\"Mean RMSE for K = 3 :- \" + str(meanerror3))\n",
        "\n",
        "# k = 4\n",
        "\n",
        "wt41 = DescentGradient(np.vstack((np.vstack((X_train41,X_train42)),X_train43)),np.vstack((np.vstack((Y_train41,Y_train42)),Y_train43)))\n",
        "error41 = rmse(Y_train44,np.matmul(X_train44,Transpose(wt41)))\n",
        "wt42 = DescentGradient(np.vstack((np.vstack((X_train41,X_train42)),X_train44)),np.vstack((np.vstack((Y_train41,Y_train42)),Y_train44)))\n",
        "error42 = rmse(Y_train43,np.matmul(X_train43,Transpose(wt42)))\n",
        "wt43 = DescentGradient(np.vstack((np.vstack((X_train41,X_train43)),X_train44)),np.vstack((np.vstack((Y_train41,Y_train43)),Y_train44)))\n",
        "error43 = rmse(Y_train42,np.matmul(X_train42,Transpose(wt43)))\n",
        "wt44 = DescentGradient(np.vstack((np.vstack((X_train42,X_train43)),X_train44)),np.vstack((np.vstack((Y_train42,Y_train43)),Y_train44)))\n",
        "error44 = rmse(Y_train41,np.matmul(X_train41,Transpose(wt44)))\n",
        "meanerror4 = (error41+error42+error43+error44)/4\n",
        "print(\"Mean RMSE for K = 4 :- \"+str(meanerror4))\n",
        "\n",
        "# k = 5\n",
        "\n",
        "trainingSet51_X = np.vstack((np.vstack((np.vstack((X_train51,X_train52)),X_train53)),X_train54))\n",
        "trainingSet51_Y = np.vstack((np.vstack((np.vstack((Y_train51,Y_train52)),Y_train53)),Y_train54))\n",
        "wt51 = DescentGradient(trainingSet51_X,trainingSet51_Y)\n",
        "error51 = rmse(Y_train55,np.matmul(X_train55,Transpose(wt51)))\n",
        "error51t = rmse(trainingSet51_Y,np.matmul(trainingSet51_X,Transpose(wt51)))\n",
        "\n",
        "trainingSet52_X = np.vstack((np.vstack((np.vstack((X_train51,X_train52)),X_train53)),X_train55))\n",
        "trainingSet52_Y = np.vstack((np.vstack((np.vstack((Y_train51,Y_train52)),Y_train53)),Y_train55))\n",
        "wt52 = DescentGradient(trainingSet52_X,trainingSet52_Y)\n",
        "error52 = rmse(Y_train54,np.matmul(X_train54,Transpose(wt52)))\n",
        "error52t = rmse(trainingSet52_Y,np.matmul(trainingSet52_X,Transpose(wt52)))\n",
        "\n",
        "trainingSet53_X = np.vstack((np.vstack((np.vstack((X_train51,X_train52)),X_train54)),X_train55))\n",
        "trainingSet53_Y = np.vstack((np.vstack((np.vstack((Y_train51,Y_train52)),Y_train54)),Y_train55))\n",
        "wt53 = DescentGradient(trainingSet53_X,trainingSet53_Y)\n",
        "error53 = rmse(Y_train53,np.matmul(X_train53,Transpose(wt53)))\n",
        "error53t = rmse(trainingSet53_Y,np.matmul(trainingSet53_X,Transpose(wt53)))\n",
        "\n",
        "trainingSet54_X = np.vstack((np.vstack((np.vstack((X_train51,X_train53)),X_train54)),X_train55))\n",
        "trainingSet54_Y = np.vstack((np.vstack((np.vstack((Y_train51,Y_train53)),Y_train54)),Y_train55))\n",
        "wt54 = DescentGradient(trainingSet54_X,trainingSet54_Y)\n",
        "error54 = rmse(Y_train52,np.matmul(X_train52,Transpose(wt54)))\n",
        "error54t = rmse(trainingSet54_Y,np.matmul(trainingSet54_X,Transpose(wt54)))\n",
        "\n",
        "trainingSet55_X = np.vstack((np.vstack((np.vstack((X_train52,X_train53)),X_train54)),X_train55))\n",
        "trainingSet55_Y = np.vstack((np.vstack((np.vstack((Y_train52,Y_train53)),Y_train54)),Y_train55))\n",
        "wt55 = DescentGradient(trainingSet55_X,trainingSet55_Y)\n",
        "error55 = rmse(Y_train51,np.matmul(X_train51,Transpose(wt55)))\n",
        "error55t = rmse(trainingSet55_Y,np.matmul(trainingSet55_X,Transpose(wt55)))\n",
        "meanerror5 = (error51+error52+error53+error54+error55)/5\n",
        "print(\"Mean RMSE for K = 5 :- \" + str(meanerror5))"
      ],
      "metadata": {
        "id": "d24pwJGZfw4Y"
      },
      "execution_count": null,
      "outputs": []
    },
    {
      "cell_type": "markdown",
      "source": [
        "Plotting"
      ],
      "metadata": {
        "id": "w9K1OvF963ou"
      }
    },
    {
      "cell_type": "code",
      "source": [
        "# In this code block we are reporting the train and set val loss and with that we are also ploting rmse vs iteation graph for k = 5 which we find optimal from pevious part\n",
        "\n",
        "wt51 = DescentGradient(trainingSet51_X,trainingSet51_Y,p = True,model_num = 1)\n",
        "error51 = rmse(Y_train55,np.matmul(X_train55,Transpose(wt51)))\n",
        "error51t = rmse(trainingSet51_Y,np.matmul(trainingSet51_X,Transpose(wt51)))\n",
        "# print(error51)\n",
        "# print(error51t)\n",
        "\n",
        "wt52 = DescentGradient(trainingSet52_X,trainingSet52_Y,p=True,model_num = 2)\n",
        "error52 = rmse(Y_train54,np.matmul(X_train54,Transpose(wt52)))\n",
        "error52t = rmse(trainingSet52_Y,np.matmul(trainingSet52_X,Transpose(wt52)))\n",
        "# print(error52t)\n",
        "# print(error52)\n",
        "\n",
        "wt53 = DescentGradient(trainingSet53_X,trainingSet53_Y,p=True,model_num = 3)\n",
        "error53 = rmse(Y_train53,np.matmul(X_train53,Transpose(wt53)))\n",
        "error53t = rmse(trainingSet53_Y,np.matmul(trainingSet53_X,Transpose(wt53)))\n",
        "# print(error53)\n",
        "# print(error53t)\n",
        "\n",
        "wt54 = DescentGradient(trainingSet54_X,trainingSet54_Y,p=True,model_num = 4)\n",
        "error54 = rmse(Y_train52,np.matmul(X_train52,Transpose(wt54)))\n",
        "error54t = rmse(trainingSet54_Y,np.matmul(trainingSet54_X,Transpose(wt54)))\n",
        "# print(error54t)\n",
        "# print(error54)\n",
        "\n",
        "wt55 = DescentGradient(trainingSet55_X,trainingSet55_Y,p=True,model_num = 5)\n",
        "error55 = rmse(Y_train51,np.matmul(X_train51,Transpose(wt55)))\n",
        "error55t = rmse(trainingSet55_Y,np.matmul(trainingSet55_X,Transpose(wt55)))\n",
        "meanerror5 = (error51+error52+error53+error54+error55)/5\n",
        "# print(error55t)\n",
        "# print(error55)\n",
        "\n",
        "print(\"Training RMSE for K = 5 :- \"+str((error51t+error52t+error53t+error54t+error55t)/5));\n",
        "print(\"Val Set RMSE for K = 5 :- \" + str(meanerror5))"
      ],
      "metadata": {
        "id": "hpL9xyg862po"
      },
      "execution_count": null,
      "outputs": []
    },
    {
      "cell_type": "markdown",
      "source": [
        "\n",
        "Ridge Regression"
      ],
      "metadata": {
        "id": "P-iu9R5XH6XT"
      }
    },
    {
      "cell_type": "code",
      "source": [
        "# In this code block we are implementing Ridge_Regression and this is similar to gradient descent but the changes which has been made here is explained\n",
        "\n",
        "def Ridge_Regression(X,Y,epoch=1350,model_num = 0):  \n",
        "  plot = []\n",
        "  plot1 = []\n",
        "  alpha = 0.006\n",
        "  lamb = 0.0055  # regularization perimeter  \n",
        "  weight = np.zeros((1,7))\n",
        "  for i in range(7):\n",
        "    weight[0,i] = 2\n",
        "  for i in range(epoch):\n",
        "    T = Transpose(weight)\n",
        "    sumpart = np.matmul(X,T) - Y\n",
        "    cost = np.sum(X*sumpart,axis = 0)/X.shape[0]\n",
        "    weight = (1-2*lamb*alpha)*weight - 2*alpha*cost   # adding ridge regularization penalty while calculating weight\n",
        "    plot = np.append(plot,rmse(Y,np.matmul(X,T)))\n",
        "    plot1 = np.append(plot1,i)\n",
        "  s = \"Model \" + str(model_num)\n",
        "  plt.xlabel(\"Iteration\")\n",
        "  plt.ylabel(\"RMSE\")\n",
        "  plt.plot(plot1,plot,label = s)\n",
        "  plt.legend()\n",
        "  return weight;"
      ],
      "metadata": {
        "id": "uKbbtqAwH6BO"
      },
      "execution_count": 79,
      "outputs": []
    },
    {
      "cell_type": "markdown",
      "source": [
        "Ridge Plotting"
      ],
      "metadata": {
        "id": "bB6J3mwWG6Ph"
      }
    },
    {
      "cell_type": "code",
      "source": [
        "# In this code block we are calculating rmse and find weights with ridge regulrization for each model of k = 5 and reporting the mean rmse on train and val set with that we are ploting the graph\n",
        "\n",
        "# Model1\n",
        "wtR1 = Ridge_Regression(trainingSet51_X,trainingSet51_Y,model_num = 1)\n",
        "errorR1 = rmse(Y_train55,np.matmul(X_train55,Transpose(wtR1)))\n",
        "errorRt1 = rmse(trainingSet51_Y,np.matmul(trainingSet51_X,Transpose(wtR1)))\n",
        "\n",
        "# Model2\n",
        "wtR2 = Ridge_Regression(trainingSet52_X,trainingSet52_Y,model_num = 2)\n",
        "errorR2 = rmse(Y_train54,np.matmul(X_train54,Transpose(wtR2)))\n",
        "errorRt2 = rmse(trainingSet52_Y,np.matmul(trainingSet52_X,Transpose(wtR2)))\n",
        "\n",
        "# Model3\n",
        "wtR3 = Ridge_Regression(trainingSet53_X,trainingSet53_Y,model_num = 3)\n",
        "errorR3 = rmse(Y_train53,np.matmul(X_train53,Transpose(wtR3)))\n",
        "errorRt3 = rmse(trainingSet53_Y,np.matmul(trainingSet53_X,Transpose(wtR3)))\n",
        "\n",
        "\n",
        "# Model4\n",
        "wtR4 = Ridge_Regression(trainingSet54_X,trainingSet54_Y,model_num = 4)\n",
        "errorR4 = rmse(Y_train52,np.matmul(X_train52,Transpose(wtR4)))\n",
        "errorRt4 = rmse(trainingSet54_Y,np.matmul(trainingSet54_X,Transpose(wtR4)))\n",
        "\n",
        "# Model5\n",
        "wtR5 = Ridge_Regression(trainingSet55_X,trainingSet55_Y,model_num = 5)\n",
        "errorR5 = rmse(Y_train51,np.matmul(X_train51,Transpose(wtR5)))\n",
        "errorRt5 = rmse(trainingSet55_Y,np.matmul(trainingSet55_X,Transpose(wtR5)))\n",
        "\n",
        "print(\"Training Error :- \" + str((errorRt1 + errorRt2 + errorRt3 + errorRt4 + errorRt5)/5))\n",
        "print(\"Testing Error :- \" + str((errorR1 + errorR2 + errorR3 + errorR4 + errorR5)/5))"
      ],
      "metadata": {
        "id": "UcZMHbFQZKE8",
        "colab": {
          "base_uri": "https://localhost:8080/",
          "height": 317
        },
        "outputId": "1c70f65b-0c7a-4f35-da4c-2be9a32011f5"
      },
      "execution_count": 80,
      "outputs": [
        {
          "output_type": "stream",
          "name": "stdout",
          "text": [
            "Training Error :- 8.768364520982155\n",
            "Testing Error :- 8.69599974745391\n"
          ]
        },
        {
          "output_type": "display_data",
          "data": {
            "text/plain": [
              "<Figure size 432x288 with 1 Axes>"
            ],
            "image/png": "[encoded data removed]"
          },
          "metadata": {
            "needs_background": "light"
          }
        }
      ]
    },
    {
      "cell_type": "markdown",
      "source": [
        "Lasso Regression"
      ],
      "metadata": {
        "id": "eXbp1NnCH9Km"
      }
    },
    {
      "cell_type": "code",
      "source": [
        "# In this code block we are implementing Lasso Regularization and it is very similar to gradient descent\n",
        "\n",
        "def lasso_Regression(X,Y,epoch=1200,model_num = 0):\n",
        "  RMSE = []\n",
        "  Iteration_Count = []\n",
        "  alpha = 0.006 \n",
        "  lamb = 0.0001  # Regularization Perimeter\n",
        "  weight = np.zeros((1,7))\n",
        "  for i in range(7):\n",
        "    weight[0,i] = 2\n",
        "  for i in range(epoch):\n",
        "    T = Transpose(weight)\n",
        "    sumpart = np.matmul(X,T) - Y\n",
        "    cost = np.sum(X*sumpart,axis = 0)/X.shape[0]\n",
        "    weight = weight - alpha*cost + lamb*np.sum(weight/np.abs(weight))  # adding lasso regularization penatly while calculating the weights\n",
        "    RMSE = np.append(RMSE,rmse(Y,np.matmul(X,T)))\n",
        "    Iteration_Count = np.append(Iteration_Count,i)\n",
        "  s = \"Model \" + str(model_num)\n",
        "  plt.xlabel(\"Iteration\")\n",
        "  plt.ylabel(\"RMSE\")\n",
        "  plt.plot(Iteration_Count,RMSE,label = s)\n",
        "  plt.legend()\n",
        "  return weight;"
      ],
      "metadata": {
        "id": "BUy4rSOiH8qe"
      },
      "execution_count": 67,
      "outputs": []
    },
    {
      "cell_type": "markdown",
      "source": [
        "Lasso Ploting"
      ],
      "metadata": {
        "id": "fGSahjJLYDew"
      }
    },
    {
      "cell_type": "code",
      "source": [
        "# In this code block we are calculating rmse and find weights with lasso regulrization for each model of k = 5 and reporting the mean rmse on train and val set with that we are ploting the graph\n",
        "\n",
        "# Model1\n",
        "wtl1 = lasso_Regression(trainingSet51_X,trainingSet51_Y,model_num = 1)\n",
        "errorl1 = rmse(Y_train55,np.matmul(X_train55,Transpose(wtl1)))\n",
        "errorlt1 = rmse(trainingSet51_Y,np.matmul(trainingSet51_X,Transpose(wtl1)))\n",
        "\n",
        "# Model2\n",
        "wtl2 = lasso_Regression(trainingSet52_X,trainingSet52_Y,model_num = 2)\n",
        "errorl2 = rmse(Y_train54,np.matmul(X_train54,Transpose(wtl2)))\n",
        "errorlt2 = rmse(trainingSet52_Y,np.matmul(trainingSet52_X,Transpose(wtl2)))\n",
        "\n",
        "# Model3\n",
        "wtl3 = lasso_Regression(trainingSet53_X,trainingSet53_Y,model_num = 3)\n",
        "errorl3 = rmse(Y_train53,np.matmul(X_train53,Transpose(wtl3)))\n",
        "errorlt3 = rmse(trainingSet53_Y,np.matmul(trainingSet53_X,Transpose(wtl3)))\n",
        "\n",
        "\n",
        "# Model4\n",
        "wtl4 = lasso_Regression(trainingSet54_X,trainingSet54_Y,model_num = 4)\n",
        "errorl4 = rmse(Y_train52,np.matmul(X_train52,Transpose(wtl4)))\n",
        "errorlt4 = rmse(trainingSet54_Y,np.matmul(trainingSet54_X,Transpose(wtl4)))\n",
        "\n",
        "# Model5\n",
        "wtl5 = lasso_Regression(trainingSet55_X,trainingSet55_Y,model_num = 5)\n",
        "errorl5 = rmse(Y_train51,np.matmul(X_train51,Transpose(wtl5)))\n",
        "errorlt5 = rmse(trainingSet55_Y,np.matmul(trainingSet55_X,Transpose(wtl5)))\n",
        "\n",
        "print(\"Training Error :- \" + str((errorlt1 + errorlt2 + errorlt3 + errorlt4 + errorlt5)/5))\n",
        "print(\"Testing Error :- \" + str((errorl1 + errorl2 + errorl3 + errorl4 + errorl5)/5))"
      ],
      "metadata": {
        "id": "hjh_5l1sYCBc"
      },
      "execution_count": null,
      "outputs": []
    },
    {
      "cell_type": "markdown",
      "source": [
        "Normal Equation Function"
      ],
      "metadata": {
        "id": "G0istvveG3iC"
      }
    },
    {
      "cell_type": "code",
      "source": [
        "# In this code block we are implementing Normal Form of Linear regression which is (Xtranspose * X)-1 . (Xtranspose * Y)\n",
        "\n",
        "def NoramlEquation(X,Y):\n",
        "  trans = Transpose(X)  # Transposing X matrix\n",
        "  x = np.matmul(trans,X) # multiply Transpose of X with X\n",
        "  inv = np.linalg.inv(x) # inverse the resultant of multiplication\n",
        "  xTy = np.matmul(trans,Y) # Multiplying transpose of X with Y\n",
        "  weight = np.matmul(inv,xTy) # multiplying inverse matrix with resultant which we get from above multiplication\n",
        "  return weight # return weights after all operation perform"
      ],
      "metadata": {
        "id": "NOuMHbI2GVq0"
      },
      "execution_count": null,
      "outputs": []
    },
    {
      "cell_type": "markdown",
      "source": [
        "Normal Equation for Optimal K which is 5"
      ],
      "metadata": {
        "id": "Pzuv_m9KDL7L"
      }
    },
    {
      "cell_type": "code",
      "source": [
        "# In this code block we are calculating Mean Rmse for k = 5\n",
        "\n",
        "wtN1 = NoramlEquation(trainingSet51_X,trainingSet51_Y)\n",
        "errorN1 = rmse(Y_train55,np.matmul(X_train55,wtN1))\n",
        "# print(errorN1)\n",
        "\n",
        "wtN2 = NoramlEquation(trainingSet52_X,trainingSet52_Y)\n",
        "errorN2 = rmse(Y_train54,np.matmul(X_train54,wtN2))\n",
        "# print(errorN2)\n",
        "\n",
        "wtN3 = NoramlEquation(trainingSet53_X,trainingSet53_Y)\n",
        "errorN3 = rmse(Y_train53,np.matmul(X_train53,wtN3))\n",
        "# print(errorN3)\n",
        "\n",
        "wtN4 = NoramlEquation(trainingSet54_X,trainingSet54_Y)\n",
        "errorN4 = rmse(Y_train52,np.matmul(X_train52,wtN4))\n",
        "# print(errorN4)\n",
        "\n",
        "wtN5 = NoramlEquation(trainingSet55_X,trainingSet55_Y)\n",
        "errorN5 = rmse(Y_train51,np.matmul(X_train51,wtN5))\n",
        "# print(errorN5)\n",
        "\n",
        "print((errorN1 + errorN2 + errorN3 + errorN4 + errorN5)/5)"
      ],
      "metadata": {
        "id": "enxs_4i_DVxd"
      },
      "execution_count": null,
      "outputs": []
    }
  ]
}